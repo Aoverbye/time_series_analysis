{
 "cells": [
  {
   "cell_type": "markdown",
   "id": "07236cfc-02bc-48ed-aaa9-40657a0f5b97",
   "metadata": {},
   "source": [
    "# Time Series Analysis: Comparing Two Different Global Models\n",
    "\n",
    "##### By Amanda Overbye"
   ]
  },
  {
   "cell_type": "markdown",
   "id": "9d2d4dc4-9114-4e79-8e8a-a2fe2aa5c851",
   "metadata": {},
   "source": [
    "## Import Libraries"
   ]
  },
  {
   "cell_type": "code",
   "execution_count": 1,
   "id": "b7b3c6c6-9b1c-4a90-b223-686070f6d680",
   "metadata": {
    "tags": []
   },
   "outputs": [
    {
     "name": "stderr",
     "output_type": "stream",
     "text": [
      "ERROR 1: PROJ: proj_create_from_database: Open of /opt/anaconda3/envs/eds296-stevenson/share/proj failed\n"
     ]
    }
   ],
   "source": [
    "import s3fs\n",
    "import intake\n",
    "import numpy as np\n",
    "import xarray as xr\n",
    "import matplotlib.pyplot as plt\n",
    "import cartopy.crs as ccrs\n",
    "import cartopy.feature as cfeature"
   ]
  },
  {
   "cell_type": "markdown",
   "id": "56ff0b1e-fde2-4918-8716-2e91d15e87af",
   "metadata": {},
   "source": [
    "## Catalog Loading and Choosing data"
   ]
  },
  {
   "cell_type": "code",
   "execution_count": null,
   "id": "00989b44-2e1d-4ab0-9ac1-030ba77edf0a",
   "metadata": {
    "tags": []
   },
   "outputs": [],
   "source": [
    "# Open catalog and store as 'catalog'\n",
    "catalog = intake.open_esm_datastore('https://cmip6-pds.s3.amazonaws.com/pangeo-cmip6.json')"
   ]
  },
  {
   "cell_type": "code",
   "execution_count": null,
   "id": "0dd39d4f-8cf9-4bd5-9df0-4c6bd04e38b7",
   "metadata": {
    "tags": []
   },
   "outputs": [],
   "source": [
    "# View catalog\n",
    "catalog"
   ]
  },
  {
   "cell_type": "code",
   "execution_count": null,
   "id": "926e3186-876d-424e-9303-33fd6a25278e",
   "metadata": {
    "tags": []
   },
   "outputs": [],
   "source": [
    "# Convert the catalog to a Pandas dataframe\n",
    "cat_df = catalog.df"
   ]
  },
  {
   "cell_type": "code",
   "execution_count": null,
   "id": "4e2ad821-2c3d-44a5-b54a-705d4cc20753",
   "metadata": {
    "tags": []
   },
   "outputs": [],
   "source": [
    "# View unique CMIP6 activities\n",
    "catalog.df.source_id.unique()"
   ]
  },
  {
   "cell_type": "code",
   "execution_count": null,
   "id": "4f731ffd-4f9e-433b-b8de-aaf91488789b",
   "metadata": {
    "tags": []
   },
   "outputs": [],
   "source": [
    "# Catalog search\n",
    "res = catalog.search(activity_id = [\"CMIP\", \"ScenarioMIP\"],\n",
    "                     source_id = [\"GFDL-CM4\", \"GFDL-ESM4\"],\n",
    "                     experiment_id = [\"historical\", \"ssp370\", \"ssp585\"],\n",
    "                     table_id = \"Amon\", \n",
    "                     member_id = \"r1i1p1f1\",\n",
    "                     variable_id = \"tas\")\n",
    "# Display contents of the catalog\n",
    "display(res.df)"
   ]
  },
  {
   "cell_type": "code",
   "execution_count": null,
   "id": "669d27a0-92db-4f5c-a512-1a0bdd565f86",
   "metadata": {
    "tags": []
   },
   "outputs": [],
   "source": [
    "# Project type: CMIP (historical) and ScenarioMIP (future)\n",
    "activity_ids = ['ScenarioMIP', 'CMIP']\n",
    "\n",
    "# Models: CanESM5 and CESM2\n",
    "source_id = ['CanESM5', 'CESM2']\n",
    "\n",
    "# Experiments: historical, SSP3-7.0, SSP5-8.5\n",
    "experiment_ids = ['historical', 'ssp370', 'ssp585']\n",
    "\n",
    "# Ensemble member: r10i1p1f1\n",
    "member_id = 'r10i1p1f1'\n",
    "\n",
    "# Data type: monthly atmospheric output\n",
    "table_id = 'Amon'\n",
    "\n",
    "# Variable: surface air temperature (tas)\n",
    "variable_id = 'tas'\n"
   ]
  },
  {
   "cell_type": "code",
   "execution_count": null,
   "id": "e6359799-2c29-4f0a-b5b8-1fac0ec26de8",
   "metadata": {
    "tags": []
   },
   "outputs": [],
   "source": [
    "# Search cataloge based on specified terms\n",
    "res = catalog.search(activity_id=activity_ids, source_id = source_id, experiment_id=experiment_ids, \n",
    "                     member_id=member_id, table_id=table_id, variable_id=variable_id)\n",
    "\n",
    "# Display data frame associated with results\n",
    "display(res.df)"
   ]
  },
  {
   "cell_type": "code",
   "execution_count": null,
   "id": "e810bc57-65f3-4dfd-9e39-876b95dc1f0d",
   "metadata": {
    "tags": []
   },
   "outputs": [],
   "source": [
    "# Read in the historical data file for CanESM5\n",
    "hist_data = xr.open_zarr(res.df[\"zstore\"][1], storage_options = {\"anon\": True})\n",
    "\n",
    "# Read in the high climate scenario data file for CanESM5\n",
    "ssp585_data = xr.open_zarr(res.df[\"zstore\"][2], storage_options = {\"anon\": True})\n",
    "\n",
    "# Read in the low climate scenario data file for CM4\n",
    "ssp370_data = xr.open_zarr(res.df[\"zstore\"][3], storage_options = {\"anon\": True})"
   ]
  },
  {
   "cell_type": "markdown",
   "id": "2968d33b-ae4f-4026-b87a-3cea27e7ed3f",
   "metadata": {},
   "source": [
    "## Choosing Geographic Area\n",
    "For my area of interest, I have chosen to do the Southeast United States. The southeast has a unique mix of variable temperatures, human activities, and diverse ecology. Additionally, I used the live there and I would like to see how these models predict climate emission scenarios impact that area. The Southeast is generalized as a temperate forest zone, however, it includes coastal planes and part of the Appalachian mountain range. Weatherwise, the Southeast is warn, rainy, and humid. The winters in this area tend to be mild, however spring and fall weather can bring in severe storms. I am choosing to focus on surface air temperature because the region is known for its warmth.\n",
    "\n",
    "## Choosing Models\n",
    "\n",
    "For this project, I use the Community Earth System Model 2 (CESM2) and the Canadian Earth System Model version 5 (CanESM5). The first thing I looked for when choosing the models was the level of emission I could choose from. Both of these models had ssp585 and ssp370. Additionally, I appreciate how the CanESM5 model includes the Canadian Terrestrial Ecosystem Model (CTEM). I thought that would be useful for this region considering how ecologically rich the southeast is, particularly in the Smokey Mountains. The CESM2 model seems to be more focused on abiotic factors but does take into account anthropogenic land use. I thought it would be interesting to compare the two models based on these differences. \n",
    "\n",
    "## Choosing Scenarios\n",
    "\n",
    "I am using the ssp370 and the ssp585 experiments. Ssp585 represents the scenario with the highest amount of emissions. Ssp370 represents a middle to high amount of emissions and warming. I chose the look at the more severe end of the spectrum because I think it is a more probable scenario at this point than milder experiments. "
   ]
  },
  {
   "cell_type": "code",
   "execution_count": null,
   "id": "bbdc8026-04db-4950-ba0a-f27f842cf49f",
   "metadata": {
    "tags": []
   },
   "outputs": [],
   "source": [
    "# Define area of interest\n",
    "lat_min, lat_max = 25.0, 37.5 \n",
    "lon_min, lon_max = 265.0, 285.0 "
   ]
  },
  {
   "cell_type": "markdown",
   "id": "78ac809b-f872-47c2-8cee-e2d572c276c9",
   "metadata": {},
   "source": [
    "### Plot Area of Interest"
   ]
  },
  {
   "cell_type": "code",
   "execution_count": null,
   "id": "dd11933a-d42b-4b42-9e4a-d321daf71a37",
   "metadata": {
    "tags": []
   },
   "outputs": [],
   "source": [
    "# Create plot to ensure the coordinates are where I want \n",
    "fig = plt.figure(figsize=(10, 6))\n",
    "ax = plt.axes(projection=ccrs.PlateCarree(central_longitude=180)) \n",
    "\n",
    "# Add features\n",
    "ax.set_extent([lon_min, lon_max, lat_min, lat_max], crs=ccrs.PlateCarree())\n",
    "ax.coastlines()\n",
    "ax.add_feature(cfeature.BORDERS)\n",
    "ax.add_feature(cfeature.STATES, linestyle=':')\n",
    "\n",
    "# Add the bounding box\n",
    "ax.plot([lon_min, lon_max, lon_max, lon_min, lon_min],\n",
    "        [lat_min, lat_min, lat_max, lat_max, lat_min],\n",
    "        transform=ccrs.PlateCarree(),\n",
    "        color='Black', linewidth=2, label='Southeast U.S.')"
   ]
  },
  {
   "cell_type": "markdown",
   "id": "c5e5ee43-c780-421a-bc8c-bb35e3fe34d3",
   "metadata": {
    "tags": []
   },
   "source": [
    "## Prepare CanESM5 Model Data"
   ]
  },
  {
   "cell_type": "code",
   "execution_count": null,
   "id": "87cbe479-5b6d-4e59-821c-77b3d9282437",
   "metadata": {
    "tags": []
   },
   "outputs": [],
   "source": [
    "# Merge historical and future projection data\n",
    "canesm5_585_data = xr.concat([hist_data, ssp585_data], dim=\"time\")\n",
    "canesm5_370_data = xr.concat([hist_data, ssp370_data], dim=\"time\")\n",
    "\n",
    "# Convert time to datetime64 format\n",
    "time = canesm5_585_data.time.astype('datetime64[ns]')\n",
    "time = canesm5_370_data.time.astype('datetime64[ns]')\n",
    "\n",
    "# Define logical mask for Southeast U.S.\n",
    "tas_SE_lat = (canesm5_585_data.lat >= lat_min) & (canesm5_585_data.lat <= lat_max)\n",
    "tas_SE_lon = (canesm5_585_data.lon >= lon_min) & (canesm5_585_data.lon <= lon_max)\n",
    "tas_SE_370_lat = (canesm5_370_data.lat >= lat_min) & (canesm5_370_data.lat <= lat_max)\n",
    "tas_SE_370_lon = (canesm5_370_data.lon >= lon_min) & (canesm5_370_data.lon <= lon_max)\n",
    "\n",
    "# Apply mask and average\n",
    "tas_SE_585 = canesm5_585_data.where(tas_SE_lat & tas_SE_lon, drop=True).mean(dim=[\"lat\", \"lon\"])\n",
    "tas_SE_370 = canesm5_370_data.where(tas_SE_370_lat & tas_SE_370_lon, drop=True).mean(dim=[\"lat\", \"lon\"])\n",
    "\n",
    "# Calculate annual mean temperature\n",
    "canesm5_mean_ssp370 = tas_SE_370.groupby(\"time.year\").mean()\n",
    "canesm5_mean_ssp585 = tas_SE_585.groupby(\"time.year\").mean()\n",
    "\n",
    "# Convert to Celsius\n",
    "canesm5_mean_ssp370 = canesm5_mean_ssp370 - 273.15\n",
    "canesm5_mean_ssp585 = canesm5_mean_ssp585 - 273.15"
   ]
  },
  {
   "cell_type": "markdown",
   "id": "1dcf6471-30b0-483c-845e-95303f88add4",
   "metadata": {
    "tags": []
   },
   "source": [
    "## Create plots for CanESM5 Model Data"
   ]
  },
  {
   "cell_type": "code",
   "execution_count": null,
   "id": "a8c60f93-4114-418c-a5db-3fb3e6c71abb",
   "metadata": {
    "tags": []
   },
   "outputs": [],
   "source": [
    "# Create figure\n",
    "fig, ax = plt.subplots(figsize=(20, 8))\n",
    "\n",
    "# Plot SSP585 (high emissions)\n",
    "ax.plot(canesm5_mean_ssp585.year, canesm5_mean_ssp585.tas, \n",
    "        label='SSP585 (Temperature)', color='#990000')\n",
    "\n",
    "# Titles and axis labels\n",
    "ax.set_title(\"Projected Surface Air Temperature (SSP585 - High Emissions) in Southeastern U.S. (1850–2100) under CANESM5 Model\", fontsize=20)\n",
    "ax.set_xlabel(\"Year\", fontsize=20)\n",
    "ax.set_ylabel(\"Temperature (°C)\", fontsize=20)\n",
    "\n",
    "# Add legend and grid\n",
    "ax.legend(fontsize=20)\n",
    "ax.grid()\n",
    "\n",
    "# Show plot\n",
    "plt.show()"
   ]
  },
  {
   "cell_type": "code",
   "execution_count": null,
   "id": "0a6c48e8-6884-4890-9b7e-3443a198da44",
   "metadata": {
    "tags": []
   },
   "outputs": [],
   "source": [
    "# Create figure\n",
    "fig, ax = plt.subplots(figsize=(20, 8))\n",
    "\n",
    "# Plot SSP370 (moderate emissions)\n",
    "ax.plot(canesm5_mean_ssp370.year, canesm5_mean_ssp370.tas, \n",
    "        label='Temperature', color='#4F4789')\n",
    "\n",
    "# Titles and axis labels\n",
    "ax.set_title(\"Projected Surface Air Temperature (SSP370 - Moderate Emissions) in Southeastern U.S. (1850–2100) under CANESM5 Model\", fontsize=20)\n",
    "ax.set_xlabel(\"Year\", fontsize=20)\n",
    "ax.set_ylabel(\"Temperature (°C)\", fontsize=20)\n",
    "\n",
    "# Add legend and grid\n",
    "ax.legend(fontsize=20)\n",
    "ax.grid()\n",
    "\n",
    "# Show plot\n",
    "plt.show()"
   ]
  },
  {
   "cell_type": "code",
   "execution_count": null,
   "id": "b361d4f9-b9d6-45b4-a512-5e93fefe628f",
   "metadata": {
    "tags": []
   },
   "outputs": [],
   "source": [
    "# Create figure\n",
    "fig, ax = plt.subplots(figsize=(14, 7))\n",
    "\n",
    "# Plot SSP370 (moderate emissions)\n",
    "ax.plot(canesm5_mean_ssp370.year, canesm5_mean_ssp370.tas, \n",
    "        label=\"SSP370 (Moderate Emissions)\", color=\"#4F4789\")\n",
    "\n",
    "# Plot SSP585 (high emissions)\n",
    "ax.plot(canesm5_mean_ssp585.year, canesm5_mean_ssp585.tas, \n",
    "        label=\"SSP585 (High Emissions)\", color=\"#990000\")\n",
    "\n",
    "# Add major and minor grid lines\n",
    "ax.grid(which='major', color='lightgray', linewidth=0.8)\n",
    "ax.grid(which='minor', color='lightgray', linestyle=':', linewidth=0.5)\n",
    "\n",
    "# Titles and axis labels\n",
    "ax.set_title(\"Projected Surface Air Temperature in Southeastern U.S. (1850–2100) under CANESM5 Model\", fontsize=20)\n",
    "ax.set_xlabel(\"Year\", fontsize=16)\n",
    "ax.set_ylabel(\"Temperature (°C)\", fontsize=16)\n",
    "\n",
    "# Add legend\n",
    "ax.legend(fontsize=14)\n",
    "\n",
    "# Show plot\n",
    "plt.show()"
   ]
  },
  {
   "cell_type": "markdown",
   "id": "dd76e304-4300-4bf8-827e-86e2d9bd1f3b",
   "metadata": {},
   "source": [
    "## Prepare CESM2 Model Data"
   ]
  },
  {
   "cell_type": "code",
   "execution_count": null,
   "id": "c361722a-12b9-42cf-adf0-b99192a02731",
   "metadata": {
    "tags": []
   },
   "outputs": [],
   "source": [
    "# Read historical and future scenario data for CESM2\n",
    "hist_data = xr.open_zarr(res.df[\"zstore\"][0], storage_options={\"anon\": True})\n",
    "ssp370_data = xr.open_zarr(res.df[\"zstore\"][4], storage_options={\"anon\": True})\n",
    "ssp585_data = xr.open_zarr(res.df[\"zstore\"][5], storage_options={\"anon\": True})\n",
    "\n",
    "# Merge historical with future projection data\n",
    "cesm2_370_data = xr.concat([hist_data, ssp370_data], dim=\"time\")\n",
    "cesm2_585_data = xr.concat([hist_data, ssp585_data], dim=\"time\")\n",
    "\n",
    "# Convert time to datetime64 format\n",
    "time = cesm2_585_data.time.astype('datetime64[ns]')\n",
    "\n",
    "# Define logical mask for Southeast U.S.\n",
    "tas_SE_lat = (cesm2_585_data.lat >= lat_min) & (cesm2_585_data.lat <= lat_max)\n",
    "tas_SE_lon = (cesm2_585_data.lon >= lon_min) & (cesm2_585_data.lon <= lon_max)\n",
    "tas_SE_370_lat = (cesm2_370_data.lat >= lat_min) & (cesm2_370_data.lat <= lat_max)\n",
    "tas_SE_370_lon = (cesm2_370_data.lon >= lon_min) & (cesm2_370_data.lon <= lon_max)\n",
    "\n",
    "# Apply mask and average spatially\n",
    "tas_SE_585 = cesm2_585_data.where(tas_SE_lat & tas_SE_lon, drop=True).mean(dim=[\"lat\", \"lon\"])\n",
    "tas_SE_370 = cesm2_370_data.where(tas_SE_370_lat & tas_SE_370_lon, drop=True).mean(dim=[\"lat\", \"lon\"])\n",
    "\n",
    "# Calculate annual mean temperature\n",
    "cesm2_mean_ssp370 = tas_SE_370.groupby(\"time.year\").mean()\n",
    "cesm2_mean_ssp585 = tas_SE_585.groupby(\"time.year\").mean()\n",
    "\n",
    "# Convert from Kelvin to Celsius\n",
    "cesm2_mean_ssp370 = cesm2_mean_ssp370 - 273.15\n",
    "cesm2_mean_ssp585 = cesm2_mean_ssp585 - 273.15"
   ]
  },
  {
   "cell_type": "markdown",
   "id": "52f34886-eb9a-40b5-849d-f9e45a7a158a",
   "metadata": {},
   "source": [
    "## Create plots for CESM2 Model Data"
   ]
  },
  {
   "cell_type": "code",
   "execution_count": null,
   "id": "41f1e1c0-9cc2-45f5-acb6-a81c071d1d57",
   "metadata": {
    "tags": []
   },
   "outputs": [],
   "source": [
    "# Create figure\n",
    "fig, ax = plt.subplots(figsize=(14, 7))\n",
    "\n",
    "# Plot SSP370 (moderate emissions)\n",
    "ax.plot(\n",
    "    cesm2_mean_ssp370.year,\n",
    "    cesm2_mean_ssp370[\"tas\"],\n",
    "    label=\"SSP370 (Moderate Emissions)\",\n",
    "    color=\"#4F4789\"\n",
    ")\n",
    "\n",
    "# Plot SSP585 (high emissions)\n",
    "ax.plot(\n",
    "    cesm2_mean_ssp585.year,\n",
    "    cesm2_mean_ssp585[\"tas\"],\n",
    "    label=\"SSP585 (High Emissions)\",\n",
    "    color=\"#990000\"\n",
    ")\n",
    "\n",
    "# Add grid lines\n",
    "ax.grid(which='major', color='lightgray', linewidth=0.8)\n",
    "ax.grid(which='minor', color='lightgray', linestyle=':', linewidth=0.5)\n",
    "\n",
    "# Add title and axis labels\n",
    "ax.set_title(\n",
    "    \"Projected Surface Air Temperature in the Southeastern U.S. (1850–2100) under CESM2 Model\",\n",
    "    fontsize=20\n",
    ")\n",
    "ax.set_xlabel(\"Year\", fontsize=16)\n",
    "ax.set_ylabel(\"Temperature (°C)\", fontsize=16)\n",
    "\n",
    "# Add a legend\n",
    "ax.legend(fontsize=14)\n",
    "\n",
    "# Show plot\n",
    "plt.show()"
   ]
  },
  {
   "cell_type": "markdown",
   "id": "59d1fc5b-5f37-460c-8410-302230173c19",
   "metadata": {},
   "source": [
    "## Comparing Results\n",
    "\n",
    "Both graphs show a similar shape denoting when temperatures have risen/are expected to rise. The CESM2 showed higher peaks and lower valleys than the CANESM5 model. Another difference is the distance between the different emission scenarios. The CESM2 model shows little over a 2-degree (C) difference, whereas the CANESM5 shows a less than 1-degree C difference. When comparing the 585 scenarios, we can see that the CANESM5 predicts a higher temperature (Over 28 C) than the CESM2 model (Under 27 C). Both models show a very concerning climate trend, which is not unexpected, although it is still distressing. I am suprised the CanESM5 showed a higher warming potential, I thought that perhaps its slightly more ecological focus would make it a bit more optomistic. However, ecosystems across the world are experiencing decline, so I can why this would make sense.\n",
    "\n",
    "## Impact On Region \n",
    "\n",
    "The impact of this warming will be severe both on ecosystems and the people in the region. Heat waves in the region could create large public health issues as the area has some of the highest poverty rates in the US. Rising energy costs will make it difficult for people to afford air conditioning, which can have dire consequences in this region. With higher temperatures, increased flooding will also be likely. This will be desolating to areas trying to recover from previous floods. Additionally, the high poverty rates will make it difficult for residents to rebuild.\n",
    "\n",
    "The Southeast is one of the most biodiverse places in the United States. The historically warm and wet weather of this region has made it one of the most advantageous for amphibians. The Smokey Mountains are considered to be the \"Salamander Capital of the World.\" Because amphibians are ectotherms, they are reliant on stable temperatures for survival. Increasing temperatures will likely lead to species loss and extinction.\n",
    "\n",
    "Lastly, the Southeast is a largely agricultural area. Higher temperatures could lead to increases in crop disease, plant stress, and severe weather. This will likely harm food production and negatively impact supply chains across the US. "
   ]
  }
 ],
 "metadata": {
  "kernelspec": {
   "display_name": "Anaconda 3 (EDS 296)",
   "language": "python",
   "name": "eds296-stevenson"
  },
  "language_info": {
   "codemirror_mode": {
    "name": "ipython",
    "version": 3
   },
   "file_extension": ".py",
   "mimetype": "text/x-python",
   "name": "python",
   "nbconvert_exporter": "python",
   "pygments_lexer": "ipython3",
   "version": "3.8.18"
  }
 },
 "nbformat": 4,
 "nbformat_minor": 5
}
