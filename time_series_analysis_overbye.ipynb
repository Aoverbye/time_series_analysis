{
 "cells": [
  {
   "cell_type": "code",
   "execution_count": 21,
   "id": "b7b3c6c6-9b1c-4a90-b223-686070f6d680",
   "metadata": {
    "tags": []
   },
   "outputs": [],
   "source": [
    "import s3fs\n",
    "import intake\n",
    "import numpy as np\n",
    "import xarray as xr\n",
    "import matplotlib.pyplot as plt"
   ]
  },
  {
   "cell_type": "markdown",
   "id": "56ff0b1e-fde2-4918-8716-2e91d15e87af",
   "metadata": {},
   "source": [
    "## Catalog Loading and data exploration"
   ]
  },
  {
   "cell_type": "code",
   "execution_count": 22,
   "id": "00989b44-2e1d-4ab0-9ac1-030ba77edf0a",
   "metadata": {
    "tags": []
   },
   "outputs": [],
   "source": [
    "# Open catalog and store as 'catalog'\n",
    "catalog = intake.open_esm_datastore('https://cmip6-pds.s3.amazonaws.com/pangeo-cmip6.json')"
   ]
  },
  {
   "cell_type": "code",
   "execution_count": 36,
   "id": "0dd39d4f-8cf9-4bd5-9df0-4c6bd04e38b7",
   "metadata": {
    "tags": []
   },
   "outputs": [
    {
     "data": {
      "text/html": [
       "<p><strong>pangeo-cmip6 catalog with 7780 dataset(s) from 522217 asset(s)</strong>:</p> <div>\n",
       "<style scoped>\n",
       "    .dataframe tbody tr th:only-of-type {\n",
       "        vertical-align: middle;\n",
       "    }\n",
       "\n",
       "    .dataframe tbody tr th {\n",
       "        vertical-align: top;\n",
       "    }\n",
       "\n",
       "    .dataframe thead th {\n",
       "        text-align: right;\n",
       "    }\n",
       "</style>\n",
       "<table border=\"1\" class=\"dataframe\">\n",
       "  <thead>\n",
       "    <tr style=\"text-align: right;\">\n",
       "      <th></th>\n",
       "      <th>unique</th>\n",
       "    </tr>\n",
       "  </thead>\n",
       "  <tbody>\n",
       "    <tr>\n",
       "      <th>activity_id</th>\n",
       "      <td>18</td>\n",
       "    </tr>\n",
       "    <tr>\n",
       "      <th>institution_id</th>\n",
       "      <td>36</td>\n",
       "    </tr>\n",
       "    <tr>\n",
       "      <th>source_id</th>\n",
       "      <td>88</td>\n",
       "    </tr>\n",
       "    <tr>\n",
       "      <th>experiment_id</th>\n",
       "      <td>170</td>\n",
       "    </tr>\n",
       "    <tr>\n",
       "      <th>member_id</th>\n",
       "      <td>657</td>\n",
       "    </tr>\n",
       "    <tr>\n",
       "      <th>table_id</th>\n",
       "      <td>37</td>\n",
       "    </tr>\n",
       "    <tr>\n",
       "      <th>variable_id</th>\n",
       "      <td>709</td>\n",
       "    </tr>\n",
       "    <tr>\n",
       "      <th>grid_label</th>\n",
       "      <td>10</td>\n",
       "    </tr>\n",
       "    <tr>\n",
       "      <th>zstore</th>\n",
       "      <td>522217</td>\n",
       "    </tr>\n",
       "    <tr>\n",
       "      <th>dcpp_init_year</th>\n",
       "      <td>60</td>\n",
       "    </tr>\n",
       "    <tr>\n",
       "      <th>version</th>\n",
       "      <td>744</td>\n",
       "    </tr>\n",
       "    <tr>\n",
       "      <th>derived_variable_id</th>\n",
       "      <td>0</td>\n",
       "    </tr>\n",
       "  </tbody>\n",
       "</table>\n",
       "</div>"
      ],
      "text/plain": [
       "<IPython.core.display.HTML object>"
      ]
     },
     "metadata": {},
     "output_type": "display_data"
    }
   ],
   "source": [
    "# View catalog\n",
    "catalog"
   ]
  },
  {
   "cell_type": "code",
   "execution_count": 24,
   "id": "926e3186-876d-424e-9303-33fd6a25278e",
   "metadata": {
    "tags": []
   },
   "outputs": [],
   "source": [
    "# Convert the catalog to a Pandas dataframe\n",
    "cat_df = catalog.df"
   ]
  },
  {
   "cell_type": "code",
   "execution_count": 49,
   "id": "4e2ad821-2c3d-44a5-b54a-705d4cc20753",
   "metadata": {
    "tags": []
   },
   "outputs": [
    {
     "data": {
      "text/plain": [
       "array(['CMCC-CM2-HR4', 'EC-Earth3P-HR', 'HadGEM3-GC31-MM',\n",
       "       'HadGEM3-GC31-HM', 'HadGEM3-GC31-LM', 'EC-Earth3P', 'ECMWF-IFS-LR',\n",
       "       'ECMWF-IFS-HR', 'HadGEM3-GC31-LL', 'CMCC-CM2-VHR4', 'GFDL-CM4',\n",
       "       'GFDL-AM4', 'IPSL-CM6A-LR', 'E3SM-1-0', 'CNRM-CM6-1', 'GFDL-ESM4',\n",
       "       'GFDL-CM4C192', 'GFDL-ESM2M', 'GFDL-OM4p5B', 'GISS-E2-1-G',\n",
       "       'GISS-E2-1-H', 'CNRM-ESM2-1', 'BCC-CSM2-MR', 'BCC-ESM1', 'MIROC6',\n",
       "       'AWI-CM-1-1-MR', 'EC-Earth3-LR', 'IPSL-CM6A-ATM-HR', 'CESM2',\n",
       "       'CESM2-WACCM', 'CNRM-CM6-1-HR', 'MRI-ESM2-0', 'CanESM5',\n",
       "       'SAM0-UNICON', 'GISS-E2-1-G-CC', 'UKESM1-0-LL', 'EC-Earth3',\n",
       "       'EC-Earth3-Veg', 'FGOALS-f3-L', 'CanESM5-CanOE', 'INM-CM4-8',\n",
       "       'INM-CM5-0', 'NESM3', 'MPI-ESM-1-2-HAM', 'CAMS-CSM1-0',\n",
       "       'MPI-ESM1-2-LR', 'MPI-ESM1-2-HR', 'MRI-AGCM3-2-H', 'MRI-AGCM3-2-S',\n",
       "       'MCM-UA-1-0', 'INM-CM5-H', 'KACE-1-0-G', 'NorESM2-LM',\n",
       "       'FGOALS-f3-H', 'FGOALS-g3', 'MIROC-ES2L', 'FIO-ESM-2-0', 'NorCPM1',\n",
       "       'NorESM1-F', 'MPI-ESM1-2-XR', 'CESM1-1-CAM5-CMIP5', 'E3SM-1-1',\n",
       "       'KIOST-ESM', 'NorESM2-MM', 'ACCESS-CM2', 'ACCESS-ESM1-5',\n",
       "       'CESM2-FV2', 'GISS-E2-2-G', 'CESM2-WACCM-FV2', 'GISS-E2-2-H',\n",
       "       'IITM-ESM', 'CIESM', 'E3SM-1-1-ECA', 'TaiESM1', 'AWI-ESM-1-1-LR',\n",
       "       'EC-Earth3-Veg-LR', 'CMCC-ESM2', 'CAS-ESM2-0', 'CMCC-CM2-SR5',\n",
       "       'EC-Earth3-AerChem', 'IPSL-CM6A-LR-INCA', 'IPSL-CM5A2-INCA',\n",
       "       'BCC-CSM2-HR', 'EC-Earth3P-VHR', 'CESM1-WACCM-SC', 'EC-Earth3-CC',\n",
       "       'MIROC-ES2H', 'ICON-ESM-LR'], dtype=object)"
      ]
     },
     "execution_count": 49,
     "metadata": {},
     "output_type": "execute_result"
    }
   ],
   "source": [
    "# View unique CMIP6 activities\n",
    "catalog.df.source_id.unique()"
   ]
  },
  {
   "cell_type": "code",
   "execution_count": 50,
   "id": "4f731ffd-4f9e-433b-b8de-aaf91488789b",
   "metadata": {
    "tags": []
   },
   "outputs": [
    {
     "data": {
      "text/html": [
       "<div>\n",
       "<style scoped>\n",
       "    .dataframe tbody tr th:only-of-type {\n",
       "        vertical-align: middle;\n",
       "    }\n",
       "\n",
       "    .dataframe tbody tr th {\n",
       "        vertical-align: top;\n",
       "    }\n",
       "\n",
       "    .dataframe thead th {\n",
       "        text-align: right;\n",
       "    }\n",
       "</style>\n",
       "<table border=\"1\" class=\"dataframe\">\n",
       "  <thead>\n",
       "    <tr style=\"text-align: right;\">\n",
       "      <th></th>\n",
       "      <th>activity_id</th>\n",
       "      <th>institution_id</th>\n",
       "      <th>source_id</th>\n",
       "      <th>experiment_id</th>\n",
       "      <th>member_id</th>\n",
       "      <th>table_id</th>\n",
       "      <th>variable_id</th>\n",
       "      <th>grid_label</th>\n",
       "      <th>zstore</th>\n",
       "      <th>dcpp_init_year</th>\n",
       "      <th>version</th>\n",
       "    </tr>\n",
       "  </thead>\n",
       "  <tbody>\n",
       "    <tr>\n",
       "      <th>0</th>\n",
       "      <td>ScenarioMIP</td>\n",
       "      <td>NOAA-GFDL</td>\n",
       "      <td>GFDL-CM4</td>\n",
       "      <td>ssp585</td>\n",
       "      <td>r1i1p1f1</td>\n",
       "      <td>Amon</td>\n",
       "      <td>tas</td>\n",
       "      <td>gr1</td>\n",
       "      <td>s3://cmip6-pds/CMIP6/ScenarioMIP/NOAA-GFDL/GFD...</td>\n",
       "      <td>NaN</td>\n",
       "      <td>20180701</td>\n",
       "    </tr>\n",
       "    <tr>\n",
       "      <th>1</th>\n",
       "      <td>CMIP</td>\n",
       "      <td>NOAA-GFDL</td>\n",
       "      <td>GFDL-CM4</td>\n",
       "      <td>historical</td>\n",
       "      <td>r1i1p1f1</td>\n",
       "      <td>Amon</td>\n",
       "      <td>tas</td>\n",
       "      <td>gr1</td>\n",
       "      <td>s3://cmip6-pds/CMIP6/CMIP/NOAA-GFDL/GFDL-CM4/h...</td>\n",
       "      <td>NaN</td>\n",
       "      <td>20180701</td>\n",
       "    </tr>\n",
       "    <tr>\n",
       "      <th>2</th>\n",
       "      <td>ScenarioMIP</td>\n",
       "      <td>NOAA-GFDL</td>\n",
       "      <td>GFDL-ESM4</td>\n",
       "      <td>ssp370</td>\n",
       "      <td>r1i1p1f1</td>\n",
       "      <td>Amon</td>\n",
       "      <td>tas</td>\n",
       "      <td>gr1</td>\n",
       "      <td>s3://cmip6-pds/CMIP6/ScenarioMIP/NOAA-GFDL/GFD...</td>\n",
       "      <td>NaN</td>\n",
       "      <td>20180701</td>\n",
       "    </tr>\n",
       "    <tr>\n",
       "      <th>3</th>\n",
       "      <td>ScenarioMIP</td>\n",
       "      <td>NOAA-GFDL</td>\n",
       "      <td>GFDL-ESM4</td>\n",
       "      <td>ssp585</td>\n",
       "      <td>r1i1p1f1</td>\n",
       "      <td>Amon</td>\n",
       "      <td>tas</td>\n",
       "      <td>gr1</td>\n",
       "      <td>s3://cmip6-pds/CMIP6/ScenarioMIP/NOAA-GFDL/GFD...</td>\n",
       "      <td>NaN</td>\n",
       "      <td>20180701</td>\n",
       "    </tr>\n",
       "    <tr>\n",
       "      <th>4</th>\n",
       "      <td>CMIP</td>\n",
       "      <td>NOAA-GFDL</td>\n",
       "      <td>GFDL-ESM4</td>\n",
       "      <td>historical</td>\n",
       "      <td>r1i1p1f1</td>\n",
       "      <td>Amon</td>\n",
       "      <td>tas</td>\n",
       "      <td>gr1</td>\n",
       "      <td>s3://cmip6-pds/CMIP6/CMIP/NOAA-GFDL/GFDL-ESM4/...</td>\n",
       "      <td>NaN</td>\n",
       "      <td>20190726</td>\n",
       "    </tr>\n",
       "  </tbody>\n",
       "</table>\n",
       "</div>"
      ],
      "text/plain": [
       "   activity_id institution_id  source_id experiment_id member_id table_id  \\\n",
       "0  ScenarioMIP      NOAA-GFDL   GFDL-CM4        ssp585  r1i1p1f1     Amon   \n",
       "1         CMIP      NOAA-GFDL   GFDL-CM4    historical  r1i1p1f1     Amon   \n",
       "2  ScenarioMIP      NOAA-GFDL  GFDL-ESM4        ssp370  r1i1p1f1     Amon   \n",
       "3  ScenarioMIP      NOAA-GFDL  GFDL-ESM4        ssp585  r1i1p1f1     Amon   \n",
       "4         CMIP      NOAA-GFDL  GFDL-ESM4    historical  r1i1p1f1     Amon   \n",
       "\n",
       "  variable_id grid_label                                             zstore  \\\n",
       "0         tas        gr1  s3://cmip6-pds/CMIP6/ScenarioMIP/NOAA-GFDL/GFD...   \n",
       "1         tas        gr1  s3://cmip6-pds/CMIP6/CMIP/NOAA-GFDL/GFDL-CM4/h...   \n",
       "2         tas        gr1  s3://cmip6-pds/CMIP6/ScenarioMIP/NOAA-GFDL/GFD...   \n",
       "3         tas        gr1  s3://cmip6-pds/CMIP6/ScenarioMIP/NOAA-GFDL/GFD...   \n",
       "4         tas        gr1  s3://cmip6-pds/CMIP6/CMIP/NOAA-GFDL/GFDL-ESM4/...   \n",
       "\n",
       "   dcpp_init_year   version  \n",
       "0             NaN  20180701  \n",
       "1             NaN  20180701  \n",
       "2             NaN  20180701  \n",
       "3             NaN  20180701  \n",
       "4             NaN  20190726  "
      ]
     },
     "metadata": {},
     "output_type": "display_data"
    }
   ],
   "source": [
    "# Catalog search\n",
    "res = catalog.search(activity_id = [\"CMIP\", \"ScenarioMIP\"], # Historical data and future projections\n",
    "                     source_id = [\"GFDL-CM4\", \"GFDL-ESM4\"],\n",
    "                     experiment_id = [\"historical\", \"ssp370\", \"ssp585\"],\n",
    "                     table_id = \"Amon\", \n",
    "                     member_id = \"r1i1p1f1\",\n",
    "                     variable_id = \"tas\")\n",
    "# Display contents of the catalog\n",
    "display(res.df)"
   ]
  },
  {
   "cell_type": "code",
   "execution_count": 39,
   "id": "669d27a0-92db-4f5c-a512-1a0bdd565f86",
   "metadata": {
    "tags": []
   },
   "outputs": [],
   "source": [
    "# Specify search terms to query catalog for CanESM5 data\n",
    "# activity_id: which project do you want? CMIP = historical data, ScenarioMIP = future projections\n",
    "activity_ids = ['ScenarioMIP', 'CMIP'] \n",
    "\n",
    "# source_id: which model do you want? \n",
    "source_id = ['CanESM5']\n",
    "\n",
    "# experiment_id: what experimental configuration do you want? Here we want historical and the four main SSPs\n",
    "experiment_ids = ['historical', 'ssp126', 'ssp245', 'ssp370', 'ssp585']\n",
    "\n",
    "# member_id: which ensemble member do you want? Here we want r10i1p1f1\n",
    "member_id = 'r10i1p1f1'\n",
    "\n",
    "# table_id: which part of the Earth system and time resolution do you want? Here we want monthly atmosphere data\n",
    "table_id = 'Amon' \n",
    "\n",
    "# variable_id: which climate variable do you want? Here we want surface air temperature\n",
    "variable_id = 'tas' "
   ]
  },
  {
   "cell_type": "code",
   "execution_count": 40,
   "id": "e6359799-2c29-4f0a-b5b8-1fac0ec26de8",
   "metadata": {
    "tags": []
   },
   "outputs": [
    {
     "data": {
      "text/html": [
       "<div>\n",
       "<style scoped>\n",
       "    .dataframe tbody tr th:only-of-type {\n",
       "        vertical-align: middle;\n",
       "    }\n",
       "\n",
       "    .dataframe tbody tr th {\n",
       "        vertical-align: top;\n",
       "    }\n",
       "\n",
       "    .dataframe thead th {\n",
       "        text-align: right;\n",
       "    }\n",
       "</style>\n",
       "<table border=\"1\" class=\"dataframe\">\n",
       "  <thead>\n",
       "    <tr style=\"text-align: right;\">\n",
       "      <th></th>\n",
       "      <th>activity_id</th>\n",
       "      <th>institution_id</th>\n",
       "      <th>source_id</th>\n",
       "      <th>experiment_id</th>\n",
       "      <th>member_id</th>\n",
       "      <th>table_id</th>\n",
       "      <th>variable_id</th>\n",
       "      <th>grid_label</th>\n",
       "      <th>zstore</th>\n",
       "      <th>dcpp_init_year</th>\n",
       "      <th>version</th>\n",
       "    </tr>\n",
       "  </thead>\n",
       "  <tbody>\n",
       "    <tr>\n",
       "      <th>0</th>\n",
       "      <td>CMIP</td>\n",
       "      <td>CCCma</td>\n",
       "      <td>CanESM5</td>\n",
       "      <td>historical</td>\n",
       "      <td>r10i1p1f1</td>\n",
       "      <td>Amon</td>\n",
       "      <td>tas</td>\n",
       "      <td>gn</td>\n",
       "      <td>s3://cmip6-pds/CMIP6/CMIP/CCCma/CanESM5/histor...</td>\n",
       "      <td>NaN</td>\n",
       "      <td>20190429</td>\n",
       "    </tr>\n",
       "    <tr>\n",
       "      <th>1</th>\n",
       "      <td>ScenarioMIP</td>\n",
       "      <td>CCCma</td>\n",
       "      <td>CanESM5</td>\n",
       "      <td>ssp585</td>\n",
       "      <td>r10i1p1f1</td>\n",
       "      <td>Amon</td>\n",
       "      <td>tas</td>\n",
       "      <td>gn</td>\n",
       "      <td>s3://cmip6-pds/CMIP6/ScenarioMIP/CCCma/CanESM5...</td>\n",
       "      <td>NaN</td>\n",
       "      <td>20190429</td>\n",
       "    </tr>\n",
       "    <tr>\n",
       "      <th>2</th>\n",
       "      <td>ScenarioMIP</td>\n",
       "      <td>CCCma</td>\n",
       "      <td>CanESM5</td>\n",
       "      <td>ssp370</td>\n",
       "      <td>r10i1p1f1</td>\n",
       "      <td>Amon</td>\n",
       "      <td>tas</td>\n",
       "      <td>gn</td>\n",
       "      <td>s3://cmip6-pds/CMIP6/ScenarioMIP/CCCma/CanESM5...</td>\n",
       "      <td>NaN</td>\n",
       "      <td>20190429</td>\n",
       "    </tr>\n",
       "    <tr>\n",
       "      <th>3</th>\n",
       "      <td>ScenarioMIP</td>\n",
       "      <td>CCCma</td>\n",
       "      <td>CanESM5</td>\n",
       "      <td>ssp126</td>\n",
       "      <td>r10i1p1f1</td>\n",
       "      <td>Amon</td>\n",
       "      <td>tas</td>\n",
       "      <td>gn</td>\n",
       "      <td>s3://cmip6-pds/CMIP6/ScenarioMIP/CCCma/CanESM5...</td>\n",
       "      <td>NaN</td>\n",
       "      <td>20190429</td>\n",
       "    </tr>\n",
       "    <tr>\n",
       "      <th>4</th>\n",
       "      <td>ScenarioMIP</td>\n",
       "      <td>CCCma</td>\n",
       "      <td>CanESM5</td>\n",
       "      <td>ssp245</td>\n",
       "      <td>r10i1p1f1</td>\n",
       "      <td>Amon</td>\n",
       "      <td>tas</td>\n",
       "      <td>gn</td>\n",
       "      <td>s3://cmip6-pds/CMIP6/ScenarioMIP/CCCma/CanESM5...</td>\n",
       "      <td>NaN</td>\n",
       "      <td>20190429</td>\n",
       "    </tr>\n",
       "  </tbody>\n",
       "</table>\n",
       "</div>"
      ],
      "text/plain": [
       "   activity_id institution_id source_id experiment_id  member_id table_id  \\\n",
       "0         CMIP          CCCma   CanESM5    historical  r10i1p1f1     Amon   \n",
       "1  ScenarioMIP          CCCma   CanESM5        ssp585  r10i1p1f1     Amon   \n",
       "2  ScenarioMIP          CCCma   CanESM5        ssp370  r10i1p1f1     Amon   \n",
       "3  ScenarioMIP          CCCma   CanESM5        ssp126  r10i1p1f1     Amon   \n",
       "4  ScenarioMIP          CCCma   CanESM5        ssp245  r10i1p1f1     Amon   \n",
       "\n",
       "  variable_id grid_label                                             zstore  \\\n",
       "0         tas         gn  s3://cmip6-pds/CMIP6/CMIP/CCCma/CanESM5/histor...   \n",
       "1         tas         gn  s3://cmip6-pds/CMIP6/ScenarioMIP/CCCma/CanESM5...   \n",
       "2         tas         gn  s3://cmip6-pds/CMIP6/ScenarioMIP/CCCma/CanESM5...   \n",
       "3         tas         gn  s3://cmip6-pds/CMIP6/ScenarioMIP/CCCma/CanESM5...   \n",
       "4         tas         gn  s3://cmip6-pds/CMIP6/ScenarioMIP/CCCma/CanESM5...   \n",
       "\n",
       "   dcpp_init_year   version  \n",
       "0             NaN  20190429  \n",
       "1             NaN  20190429  \n",
       "2             NaN  20190429  \n",
       "3             NaN  20190429  \n",
       "4             NaN  20190429  "
      ]
     },
     "metadata": {},
     "output_type": "display_data"
    }
   ],
   "source": [
    "# Search through catalog, store results in \"res\" variable\n",
    "res = catalog.search(activity_id=activity_ids, source_id=source_id, experiment_id=experiment_ids, \n",
    "                     member_id=member_id, table_id=table_id, variable_id=variable_id)\n",
    "\n",
    "# Display data frame associated with results\n",
    "display(res.df)"
   ]
  },
  {
   "cell_type": "code",
   "execution_count": 52,
   "id": "e810bc57-65f3-4dfd-9e39-876b95dc1f0d",
   "metadata": {
    "tags": []
   },
   "outputs": [],
   "source": [
    "# Read in the historical data file for CM4\n",
    "hist_data = xr.open_zarr(res.df[\"zstore\"][0], storage_options = {\"anon\": True})\n",
    "\n",
    "# Read in the high climate scenario data file for CM4\n",
    "ssp585_data = xr.open_zarr(res.df[\"zstore\"][1], storage_options = {\"anon\": True})\n",
    "\n",
    "# Read in the low climate scenario data file for CM4\n",
    "ssp370_data = xr.open_zarr(res.df[\"zstore\"][2], storage_options = {\"anon\": True})"
   ]
  },
  {
   "cell_type": "markdown",
   "id": "2968d33b-ae4f-4026-b87a-3cea27e7ed3f",
   "metadata": {},
   "source": [
    "## Area of Interest\n",
    "For my area of interest I have chosen to do the southeast United States. Being an area with such variable climate, I thought it would be interesting to see how the models interact with it. For the models, I chose the ones with more severe climate outcomes because I tend not to be super optimistic about where we are at in our climate change prevention actitivies."
   ]
  },
  {
   "cell_type": "code",
   "execution_count": 53,
   "id": "bbdc8026-04db-4950-ba0a-f27f842cf49f",
   "metadata": {
    "tags": []
   },
   "outputs": [],
   "source": [
    "# Define area of interest\n",
    "lat_min, lat_max = 25.0, 37.5 \n",
    "lon_min, lon_max = 270.0, 285.0 "
   ]
  },
  {
   "cell_type": "code",
   "execution_count": 55,
   "id": "a67140cd-2c33-4601-b353-41edc1631f11",
   "metadata": {
    "tags": []
   },
   "outputs": [],
   "source": [
    "# Concatenate historical and future projection data\n",
    "canesm5_585_data = xr.concat([hist_data, ssp585_data], dim=\"time\")\n",
    "# Concatenate historical and future projection data\n",
    "canesm5_370_data = xr.concat([hist_data, ssp370_data], dim=\"time\")"
   ]
  },
  {
   "cell_type": "code",
   "execution_count": 56,
   "id": "42d7f2d6-1f0f-40d8-a625-114012293fcb",
   "metadata": {
    "tags": []
   },
   "outputs": [],
   "source": [
    "# Convert time to datetime64 format\n",
    "time = canesm5_585_data.time.astype('datetime64[ns]')\n",
    "# Convert time to datetime64 format\n",
    "time = canesm5_370_data.time.astype('datetime64[ns]')"
   ]
  },
  {
   "cell_type": "code",
   "execution_count": null,
   "id": "d1118217-3b48-4b5a-84a4-2d232bfccfd7",
   "metadata": {},
   "outputs": [],
   "source": [
    "# Define logical mask: True when lat/lon inside the valid ranges, False elsewhere\n",
    "tas_SE_lat = (canesm5_data.lat >= lat_min) & (canesm5_data.lat <= lat_max)\n",
    "tas_SE_lon = (canesm5_data.lon >= lon_min) & (canesm5_data.lon <= lon_max)\n",
    "\n",
    "# Find points where the mask value is True, drop all other points\n",
    "tas_NYC = canesm5_data.where(tas_NYC_lat & tas_NYC_lon, drop=True)\n",
    "\n",
    "# Average over lat, lon dimensions to get a time series\n",
    "tas_NYC = tas_NYC.mean(dim=[\"lat\", \"lon\"])"
   ]
  }
 ],
 "metadata": {
  "kernelspec": {
   "display_name": "Anaconda 3 (EDS 296)",
   "language": "python",
   "name": "eds296-stevenson"
  },
  "language_info": {
   "codemirror_mode": {
    "name": "ipython",
    "version": 3
   },
   "file_extension": ".py",
   "mimetype": "text/x-python",
   "name": "python",
   "nbconvert_exporter": "python",
   "pygments_lexer": "ipython3",
   "version": "3.8.18"
  }
 },
 "nbformat": 4,
 "nbformat_minor": 5
}
